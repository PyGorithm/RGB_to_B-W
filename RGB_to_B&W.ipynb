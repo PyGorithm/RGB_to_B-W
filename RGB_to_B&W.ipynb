{
 "cells": [
  {
   "cell_type": "code",
   "execution_count": 1,
   "id": "3ac047c1",
   "metadata": {},
   "outputs": [
    {
     "name": "stdout",
     "output_type": "stream",
     "text": [
      "Requirement already satisfied: Pillow in /Library/Frameworks/Python.framework/Versions/3.11/lib/python3.11/site-packages (9.5.0)\r\n",
      "Requirement already satisfied: numpy in /Library/Frameworks/Python.framework/Versions/3.11/lib/python3.11/site-packages (1.24.2)\r\n"
     ]
    }
   ],
   "source": [
    "! pip install Pillow numpy"
   ]
  },
  {
   "cell_type": "code",
   "execution_count": 2,
   "id": "a654d24f",
   "metadata": {},
   "outputs": [],
   "source": [
    "from PIL import Image\n",
    "import numpy as np"
   ]
  },
  {
   "cell_type": "code",
   "execution_count": 3,
   "id": "a37c2f2e",
   "metadata": {},
   "outputs": [],
   "source": [
    "image = Image.open('wow.jpg')"
   ]
  },
  {
   "cell_type": "code",
   "execution_count": null,
   "id": "2dd7778c",
   "metadata": {},
   "outputs": [],
   "source": [
    "display(image)"
   ]
  },
  {
   "cell_type": "code",
   "execution_count": 4,
   "id": "c829160c",
   "metadata": {},
   "outputs": [],
   "source": [
    "image_array = np.array(image)"
   ]
  },
  {
   "cell_type": "code",
   "execution_count": 5,
   "id": "36b7486b",
   "metadata": {},
   "outputs": [
    {
     "data": {
      "text/plain": [
       "(5304, 7952, 3)"
      ]
     },
     "execution_count": 5,
     "metadata": {},
     "output_type": "execute_result"
    }
   ],
   "source": [
    "image_array.shape"
   ]
  },
  {
   "cell_type": "code",
   "execution_count": 6,
   "id": "dacb752f",
   "metadata": {},
   "outputs": [
    {
     "data": {
      "text/plain": [
       "array([1, 0, 5], dtype=uint8)"
      ]
     },
     "execution_count": 6,
     "metadata": {},
     "output_type": "execute_result"
    }
   ],
   "source": [
    "image_array[0,0]"
   ]
  },
  {
   "cell_type": "code",
   "execution_count": 7,
   "id": "6e84b155",
   "metadata": {},
   "outputs": [],
   "source": [
    "bw_array = np.mean(image_array, axis=2)"
   ]
  },
  {
   "cell_type": "code",
   "execution_count": 8,
   "id": "49a545fc",
   "metadata": {},
   "outputs": [
    {
     "data": {
      "text/plain": [
       "(5304, 7952)"
      ]
     },
     "execution_count": 8,
     "metadata": {},
     "output_type": "execute_result"
    }
   ],
   "source": [
    "bw_array.shape"
   ]
  },
  {
   "cell_type": "code",
   "execution_count": 9,
   "id": "ed87156a",
   "metadata": {},
   "outputs": [
    {
     "data": {
      "text/plain": [
       "2.0"
      ]
     },
     "execution_count": 9,
     "metadata": {},
     "output_type": "execute_result"
    }
   ],
   "source": [
    "bw_array[0,0]"
   ]
  },
  {
   "cell_type": "code",
   "execution_count": 10,
   "id": "ed0ed4e1",
   "metadata": {},
   "outputs": [],
   "source": [
    "bw_image = Image.fromarray(bw_array.astype('uint8'))"
   ]
  },
  {
   "cell_type": "code",
   "execution_count": null,
   "id": "e4f8446e",
   "metadata": {},
   "outputs": [],
   "source": [
    "display(bw_image)"
   ]
  },
  {
   "cell_type": "code",
   "execution_count": 11,
   "id": "0a5c61c7",
   "metadata": {},
   "outputs": [],
   "source": [
    "bw_image.save('wow_bw.jpg')"
   ]
  },
  {
   "cell_type": "code",
   "execution_count": null,
   "id": "7adee08e",
   "metadata": {},
   "outputs": [],
   "source": []
  }
 ],
 "metadata": {
  "kernelspec": {
   "display_name": "Python 3 (ipykernel)",
   "language": "python",
   "name": "python3"
  },
  "language_info": {
   "codemirror_mode": {
    "name": "ipython",
    "version": 3
   },
   "file_extension": ".py",
   "mimetype": "text/x-python",
   "name": "python",
   "nbconvert_exporter": "python",
   "pygments_lexer": "ipython3",
   "version": "3.11.2"
  }
 },
 "nbformat": 4,
 "nbformat_minor": 5
}
